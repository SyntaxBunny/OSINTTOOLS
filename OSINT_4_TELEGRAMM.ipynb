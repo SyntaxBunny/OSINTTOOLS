{
  "nbformat": 4,
  "nbformat_minor": 0,
  "metadata": {
    "colab": {
      "provenance": []
    },
    "kernelspec": {
      "name": "python3",
      "display_name": "Python 3"
    },
    "language_info": {
      "name": "python"
    }
  },
  "cells": [
    {
      "cell_type": "code",
      "execution_count": null,
      "metadata": {
        "id": "X_NDfUVA0Ith"
      },
      "outputs": [],
      "source": [
        "!pip install telethon\n",
        "!pip install pandas"
      ]
    },
    {
      "cell_type": "code",
      "source": [
        "rm session_name.session"
      ],
      "metadata": {
        "id": "6O-Pc_Ka0Q6u",
        "colab": {
          "base_uri": "https://localhost:8080/"
        },
        "outputId": "6b4c87bb-88b5-4673-ea3e-6916c24747ce"
      },
      "execution_count": null,
      "outputs": [
        {
          "output_type": "stream",
          "name": "stdout",
          "text": [
            "rm: cannot remove 'session_name.session': No such file or directory\n"
          ]
        }
      ]
    },
    {
      "cell_type": "markdown",
      "source": [
        "## SCRAPE USER FROM GROUPS ON TELEGRAMM"
      ],
      "metadata": {
        "id": "Whc2pPX0QfZu"
      }
    },
    {
      "cell_type": "code",
      "source": [
        "from telethon import TelegramClient\n",
        "from telethon.errors import FloodWaitError\n",
        "from telethon.tl.functions.channels import GetParticipantsRequest\n",
        "from telethon.tl.types import ChannelParticipantsSearch, MessageEntityUrl\n",
        "import pandas as pd\n",
        "import asyncio\n",
        "import time\n",
        "import re\n",
        "\n",
        "# Telegram API Credentials\n",
        "API_ID = '******'\n",
        "API_HASH = '******5'\n",
        "GROUP_USERNAME = '*******'\n",
        "\n",
        "client = TelegramClient('session_name', API_ID, API_HASH)\n",
        "\n",
        "async def fetch_all_members(chat):\n",
        "    members = []\n",
        "    offset = 0\n",
        "    limit = 100\n",
        "    while True:\n",
        "        try:\n",
        "            participants = await client(GetParticipantsRequest(\n",
        "                channel=chat,\n",
        "                filter=ChannelParticipantsSearch(''),\n",
        "                offset=offset,\n",
        "                limit=limit,\n",
        "                hash=0\n",
        "            ))\n",
        "        except FloodWaitError as e:\n",
        "            print(f\"FloodWaitError: waiting for {e.seconds}s\")\n",
        "            await asyncio.sleep(e.seconds)\n",
        "            continue\n",
        "\n",
        "        if not participants.users:\n",
        "            break\n",
        "\n",
        "        for user in participants.users:\n",
        "            members.append({\n",
        "                \"User ID\": user.id,\n",
        "                \"Username\": user.username or \"\",\n",
        "                \"First Name\": user.first_name or \"\",\n",
        "                \"Last Name\": user.last_name or \"\",\n",
        "                \"Phone\": user.phone or '',\n",
        "                \"Access Hash\": user.access_hash,\n",
        "\n",
        "            })\n",
        "\n",
        "        offset += len(participants.users)\n",
        "        if len(participants.users) < limit:\n",
        "            break\n",
        "    return members\n",
        "\n",
        "async def fetch_all_messages(chat, limit=0):\n",
        "    messages = []\n",
        "    async for msg in client.iter_messages(chat, limit=limit):\n",
        "        messages.append({\n",
        "            \"Date\": msg.date,\n",
        "            \"Sender ID\": msg.sender_id,\n",
        "            \"Message\": msg.text.strip().replace('\\n', ' ') if msg.text else \"\",\n",
        "            \"Message ID\": msg.id\n",
        "        })\n",
        "    return messages\n",
        "\n",
        "async def main():\n",
        "    await client.start()\n",
        "    chat = await client.get_entity(GROUP_USERNAME)\n",
        "\n",
        "\n",
        "\n",
        "    print(\"[*] Fetching members...\")\n",
        "    members = await fetch_all_members(chat)\n",
        "    members_df = pd.DataFrame(members)\n",
        "\n",
        "    safe_title = re.sub(r'\\W+', '_', chat.title)\n",
        "\n",
        "    members_df.to_csv(f\"group_members_{safe_title}.csv\", index=False, encoding=\"utf-8\")\n",
        "    print(f\"[+] Saved {len(members)} members to group_members_{safe_title}.csv\")\n",
        "\n",
        "\n",
        "    print(\"[*] Fetching messages...\")\n",
        "    messages = await fetch_all_messages(chat)\n",
        "    messages_df = pd.DataFrame(messages)\n",
        "    messages_df.to_csv(\"group_messages.csv\", index=False, encoding=\"utf-8\")\n",
        "    print(f\"[+] Saved {len(messages)} messages to group_messages.csv\")\n",
        "\n",
        "    await client.disconnect()\n",
        "\n",
        "await main()\n"
      ],
      "metadata": {
        "id": "GAwpR85I0REe"
      },
      "execution_count": null,
      "outputs": []
    },
    {
      "cell_type": "markdown",
      "source": [
        "## GET USER IDS from Single USERS on TELEGRAMM"
      ],
      "metadata": {
        "id": "_V-9xmCYQm5m"
      }
    },
    {
      "cell_type": "code",
      "source": [
        "from telethon import TelegramClient\n",
        "import pandas as pd\n",
        "import asyncio\n",
        "\n",
        "API_ID = '+++++'\n",
        "API_HASH = '++++++++++++++++++'\n",
        "\n",
        "# Your list\n",
        "USERNAMES = [\n",
        "    'username1', 'username2', 'username3', 'username4', 'username5',\n",
        "    'username6', 'username7', 'username8', 'username9', 'username10\n",
        "]\n",
        "\n",
        "client = TelegramClient('resolve_session', API_ID, API_HASH)\n",
        "\n",
        "async def resolve_usernames(usernames):\n",
        "    results = []\n",
        "    for name in usernames:\n",
        "        username = name.lstrip('@')\n",
        "        try:\n",
        "            user = await client.get_entity(username)\n",
        "            results.append({\n",
        "                \"Input\": name,\n",
        "                \"Username\": user.username or '',\n",
        "                \"User ID\": user.id,\n",
        "                \"First Name\": user.first_name or '',\n",
        "                \"Last Name\": user.last_name or '',\n",
        "                \"Phone\": user.phone or '',\n",
        "                \"Access Hash\": user.access_hash\n",
        "            })\n",
        "        except Exception as e:\n",
        "            results.append({\n",
        "                \"Input\": name,\n",
        "                \"Username\": username,\n",
        "                \"User ID\": \"NO ID\",\n",
        "                \"First Name\": '',\n",
        "                \"Last Name\": '',\n",
        "                \"Phone\": '',\n",
        "                \"Error\": str(e)\n",
        "            })\n",
        "    return results\n",
        "\n",
        "async def main():\n",
        "    await client.start()\n",
        "    data = await resolve_usernames(USERNAMES)\n",
        "    df = pd.DataFrame(data)\n",
        "    df.to_csv(\"resolved_users.csv\", index=False, encoding=\"utf-8\")\n",
        "    print(f\"[+] Done. Saved {len(data)} results to resolved_users.csv\")\n",
        "    await client.disconnect()\n",
        "\n",
        "await main()\n"
      ],
      "metadata": {
        "colab": {
          "base_uri": "https://localhost:8080/"
        },
        "id": "HMwEwsCMI_3R",
        "outputId": "d671095d-f08c-4a2b-ca96-9c4c7b26fd15"
      },
      "execution_count": null,
      "outputs": [
        {
          "output_type": "stream",
          "name": "stdout",
          "text": [
            "[+] Done. Saved 5 results to resolved_users.csv\n"
          ]
        }
      ]
    },
    {
      "cell_type": "markdown",
      "source": [
        "##SEARCH FOR GROUPS ON TELEGRAM"
      ],
      "metadata": {
        "id": "z7_Y_41aQKig"
      }
    },
    {
      "cell_type": "code",
      "source": [
        "#sucht nach gruppen name\n",
        "\n",
        "from telethon import TelegramClient\n",
        "from telethon.errors import SessionPasswordNeededError\n",
        "from telethon.tl.functions.contacts import SearchRequest\n",
        "import asyncio\n",
        "import os\n",
        "\n",
        "API_ID = ##############\n",
        "API_HASH = '##############'\n",
        "SEARCH_KEYWORD = \"###########\"\n",
        "\n",
        "# Start mit Standard-Session\n",
        "SESSION_BASE = \"search_session\"\n",
        "client = None\n",
        "\n",
        "async def safe_create_client():\n",
        "    global client\n",
        "    for i in range(5):\n",
        "        session_name = f\"{SESSION_BASE}_{i}\" if i > 0 else SESSION_BASE\n",
        "        try:\n",
        "            client = TelegramClient(session_name, API_ID, API_HASH)\n",
        "            await client.start()\n",
        "            print(f\"[+] Connected using session: {session_name}\")\n",
        "            return\n",
        "        except Exception as e:\n",
        "            if \"database is locked\" in str(e).lower():\n",
        "                print(f\"[!] Session '{session_name}' is locked, trying another...\")\n",
        "                continue\n",
        "            else:\n",
        "                raise e\n",
        "    raise RuntimeError(\"❌ Failed to start any TelegramClient session.\")\n",
        "\n",
        "async def search_groups_by_title(keyword):\n",
        "    print(f\"[*] Searching for groups/channels with keyword: '{keyword}'\")\n",
        "    results = []\n",
        "    try:\n",
        "        result = await client(SearchRequest(\n",
        "            q=keyword,\n",
        "            limit=30\n",
        "        ))\n",
        "\n",
        "        if not result.chats:\n",
        "            print(\"[-] Keine Gruppen oder Kanäle gefunden.\")\n",
        "            return results\n",
        "\n",
        "        for chat in result.chats:\n",
        "            title = chat.title\n",
        "            username = chat.username or \"(privat oder leer)\"\n",
        "            chat_id = chat.id\n",
        "            link = f\"https://t.me/{chat.username}\" if chat.username else \"(kein öffentlicher Link)\"\n",
        "\n",
        "            print(\" Titel     :\", title)\n",
        "            print(\" Username :\", f\"@{username}\")\n",
        "            print(\" ID        :\", chat_id)\n",
        "            print(\" Link      :\", link)\n",
        "            print(\"-\" * 40)\n",
        "\n",
        "            results.append({\n",
        "                \"Title\": title,\n",
        "                \"Username\": username,\n",
        "                \"ID\": chat_id,\n",
        "                \"Link\": link\n",
        "            })\n",
        "\n",
        "    except Exception as e:\n",
        "        print(f\"[!] Fehler bei der Suche: {e}\")\n",
        "    return results\n",
        "\n",
        "async def main():\n",
        "    await safe_create_client()\n",
        "    results = await search_groups_by_title(SEARCH_KEYWORD)\n",
        "\n",
        "    if results:\n",
        "        filename = f\"search_results_{SEARCH_KEYWORD.replace(' ', '_')}.csv\"\n",
        "        pd.DataFrame(results).to_csv(filename, index=False, encoding=\"utf-8\")\n",
        "        print(f\"[+] CSV gespeichert: {filename}\")\n",
        "    else:\n",
        "        print(\"[-] Keine Daten zum Speichern.\")\n",
        "\n",
        "    await client.disconnect()\n",
        "\n",
        "#  Start\n",
        "await main()"
      ],
      "metadata": {
        "id": "4DDdimOxqyOQ"
      },
      "execution_count": null,
      "outputs": []
    }
  ]
}